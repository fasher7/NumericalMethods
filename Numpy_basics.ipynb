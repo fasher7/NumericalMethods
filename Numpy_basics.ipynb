{
  "cells": [
    {
      "cell_type": "markdown",
      "metadata": {
        "id": "Dy6WcZhSqIOk"
      },
      "source": [
        "# **Colab Notebooks**"
      ]
    },
    {
      "cell_type": "markdown",
      "metadata": {
        "id": "aBYrfsG9q0GF"
      },
      "source": [
        "To run this tutorial entirely in Colab, click the Open in Colab badge at the very top of this page. Sign in with your google account and click on the '[ ]' sign at top of each code cell to run the code of that cell. You can also use **Shift + Enter** to run the selected cell."
      ]
    },
    {
      "cell_type": "markdown",
      "metadata": {
        "id": "rvy7qgN8naaE"
      },
      "source": [
        "# **Python**\n",
        "Python is a high-level, dynamically typed multiparadigm programming language. Python code is often said to be almost like pseudocode, since it allows you to express very powerful ideas in very few lines of code while being very readable."
      ]
    },
    {
      "cell_type": "markdown",
      "metadata": {
        "id": "p9O7jd5pnwRj"
      },
      "source": [
        "## if ... elif ... else"
      ]
    },
    {
      "cell_type": "code",
      "execution_count": null,
      "metadata": {
        "colab": {
          "base_uri": "https://localhost:8080/"
        },
        "id": "qIAKZEGCn590",
        "outputId": "e755bdc4-27b2-4514-c16c-1e428125e819"
      },
      "outputs": [
        {
          "name": "stdout",
          "output_type": "stream",
          "text": [
            "1\n"
          ]
        }
      ],
      "source": [
        "n = 3   #Experiment with different values of n\n",
        "x = 0\n",
        "if n >= 1 and n <= 5:  \n",
        "  x = 1\n",
        "  print(x)\n",
        "elif n >= 6:\n",
        "  x = 2\n",
        "  print(x)\n",
        "else: \n",
        "  x = 3\n",
        "  print(x)"
      ]
    },
    {
      "cell_type": "markdown",
      "metadata": {
        "id": "0h0vtS8PwQBX"
      },
      "source": [
        "##Write your own code\n",
        "Write your code that **prints 0** if n is *less than or equal* to 10, **prints 1** if n is *between* 11 and 30 and **prints 2** if n is *greater* than 30."
      ]
    },
    {
      "cell_type": "code",
      "execution_count": null,
      "metadata": {
        "colab": {
          "base_uri": "https://localhost:8080/"
        },
        "id": "Ry7YwnbTwOrB",
        "outputId": "234a8cb5-6321-4753-da33-3396d0c87abb"
      },
      "outputs": [
        {
          "name": "stdout",
          "output_type": "stream",
          "text": [
            "37\n",
            "2\n"
          ]
        }
      ],
      "source": [
        "#Write your code below\n",
        "n = int(input())          #Experiment with different values of n\n",
        "if n <= 10:\n",
        "  print(0)\n",
        "elif n > 10 and n <= 30:\n",
        "  print(1)\n",
        "else:\n",
        "  print(2)"
      ]
    },
    {
      "cell_type": "markdown",
      "metadata": {
        "id": "rC1nfPKbod0_"
      },
      "source": [
        "## Loops\n",
        "We can loop over the elements of a list like this:"
      ]
    },
    {
      "cell_type": "code",
      "execution_count": null,
      "metadata": {
        "colab": {
          "base_uri": "https://localhost:8080/"
        },
        "id": "bLJOyQmtoigg",
        "outputId": "6b499240-2d73-4255-8365-994c4efe51ab"
      },
      "outputs": [
        {
          "name": "stdout",
          "output_type": "stream",
          "text": [
            "0 1 2 3 4 5 6 7 8 9 \n",
            "cat dog monkey \n",
            "[0, 1, 4, 9, 16]\n"
          ]
        }
      ],
      "source": [
        "for i in range(10):\n",
        "  print(i, end=' ')\n",
        "\n",
        "print()\n",
        "\n",
        "animals = ['cat', 'dog', 'monkey']\n",
        "for animal in animals:\n",
        "    print(animal, end=' ')\n",
        "\n",
        "print()\n",
        "\n",
        "nums = [0, 1, 2, 3, 4]\n",
        "squares = []\n",
        "for x in nums:\n",
        "    squares.append(x ** 2) # ** is power\n",
        "print(squares)   # Prints [0, 1, 4, 9, 16]"
      ]
    },
    {
      "cell_type": "markdown",
      "metadata": {
        "id": "yJ2qP9atpG1u"
      },
      "source": [
        "If you want access to the index of each element within the body of a loop, use the built-in enumerate function:"
      ]
    },
    {
      "cell_type": "code",
      "execution_count": null,
      "metadata": {
        "colab": {
          "base_uri": "https://localhost:8080/"
        },
        "id": "Cy2Xrz6CpIDM",
        "outputId": "a7550f7f-bda6-4bbc-8d31-36de4166175d"
      },
      "outputs": [
        {
          "name": "stdout",
          "output_type": "stream",
          "text": [
            "#1: cat\n",
            "#2: dog\n",
            "#3: monkey\n"
          ]
        }
      ],
      "source": [
        "animals = ['cat', 'dog', 'monkey']\n",
        "for idx, animal in enumerate(animals):\n",
        "    print('#%d: %s' % (idx + 1, animal))"
      ]
    },
    {
      "cell_type": "markdown",
      "metadata": {
        "id": "WJ18Xe_exybi"
      },
      "source": [
        "##Write your own code\n",
        "You are given a list of numbers. Iterate through each number in the list and print whether it is divided by 3 or 2 or both 3 and 2. Good luck!\n",
        "\n",
        "For example, use `print(i, \"is divided by both 3 and 2\")` for printing. You need to slightly alter the print statement for each condition."
      ]
    },
    {
      "cell_type": "code",
      "execution_count": null,
      "metadata": {
        "colab": {
          "base_uri": "https://localhost:8080/"
        },
        "id": "dZN5GSKnmxjo",
        "outputId": "68751edc-fcd6-45b0-fb14-b4f515ea0855"
      },
      "outputs": [
        {
          "name": "stdout",
          "output_type": "stream",
          "text": [
            "2 is divided by 2\n",
            "3 is divided by 3\n",
            "4 is divided by 2\n",
            "6 is divided by both 3 and 2\n",
            "8 is divided by 2\n",
            "9 is divided by 3\n",
            "10 is divided by 2\n"
          ]
        }
      ],
      "source": [
        "nums = [2, 3, 4, 6, 8, 9, 10]\n",
        "#Write your code here\n",
        "\n",
        "for x in nums:\n",
        "  if x%2==0 and x%3==0:\n",
        "    print(x, \"is divided by both 3 and 2\") \n",
        "  elif x%2==0 or x%3!=0:\n",
        "    print(x, \"is divided by 2\")\n",
        "  elif x%3==0 or x%2!=0:\n",
        "    print(x, \"is divided by 3\")"
      ]
    },
    {
      "cell_type": "markdown",
      "metadata": {
        "id": "16ncA1qUpVTt"
      },
      "source": [
        "## Functions\n",
        "Python functions are defined using the `def` keyword. For example:"
      ]
    },
    {
      "cell_type": "code",
      "execution_count": null,
      "metadata": {
        "colab": {
          "base_uri": "https://localhost:8080/"
        },
        "id": "InEDKT1WpaW9",
        "outputId": "29652ec7-29cf-4251-fb0e-c6c8551d4b3f"
      },
      "outputs": [
        {
          "name": "stdout",
          "output_type": "stream",
          "text": [
            "negative\n",
            "zero\n",
            "positive\n"
          ]
        }
      ],
      "source": [
        "def sign(x):\n",
        "    if x > 0:\n",
        "        return 'positive'\n",
        "    elif x < 0:\n",
        "        return 'negative'\n",
        "    else:\n",
        "        return 'zero'\n",
        "\n",
        "print(sign(-1))\n",
        "print(sign(0))\n",
        "print(sign(1))"
      ]
    },
    {
      "cell_type": "markdown",
      "metadata": {
        "id": "brgg-3z5prsO"
      },
      "source": [
        "We will often define functions to take optional keyword arguments, like this:"
      ]
    },
    {
      "cell_type": "code",
      "execution_count": null,
      "metadata": {
        "id": "4Xm_ISpRptCv"
      },
      "outputs": [],
      "source": [
        "def hello(name, loud=False): #loud=False indicates the default value for parameter loud is False\n",
        "    if loud:\n",
        "        print('HELLO, %s!' % name.upper())\n",
        "    else:\n",
        "        print('Hello, %s' % name)\n",
        "\n",
        "hello('Bob') # Prints \"Hello, Bob\" because loud is set to False by default \n",
        "hello('Fred', loud=True)  # Prints \"HELLO, FRED!\""
      ]
    },
    {
      "cell_type": "code",
      "execution_count": null,
      "metadata": {
        "colab": {
          "base_uri": "https://localhost:8080/"
        },
        "id": "DEgtZOzAqW4s",
        "outputId": "109429d1-4c3a-4e33-835f-b49e7ccd1066"
      },
      "outputs": [
        {
          "name": "stdout",
          "output_type": "stream",
          "text": [
            "8 2\n"
          ]
        }
      ],
      "source": [
        "def sumdiff(x,y):\n",
        "    a = x + y;\n",
        "    b = x - y;\n",
        "\n",
        "    return a, b\n",
        "\n",
        "sum, diff = sumdiff(5, 3)\n",
        "print(sum, diff)"
      ]
    },
    {
      "cell_type": "code",
      "execution_count": null,
      "metadata": {
        "id": "cTUr3t4sy7bP"
      },
      "outputs": [],
      "source": [
        "nums = [2, 3, 4, 6, 8, 9, 10]\n",
        "\n",
        "#Write your own code here\n",
        "\n",
        "\n",
        "\n",
        "\n",
        "\n",
        "\n"
      ]
    },
    {
      "cell_type": "markdown",
      "metadata": {
        "id": "T_gXI0D12DdA"
      },
      "source": [
        "# **Numpy**\n",
        "Numpy is the core library for scientific computing in Python. It provides a high-performance multidimensional array object, and tools for working with these arrays. To start working with numpy we always need to import the numpy package. Run the cell below to import numpy."
      ]
    },
    {
      "cell_type": "code",
      "execution_count": 5,
      "metadata": {
        "id": "rC161lJVzykW"
      },
      "outputs": [],
      "source": [
        "import numpy as np"
      ]
    },
    {
      "cell_type": "markdown",
      "metadata": {
        "id": "SLstFTXf3dO3"
      },
      "source": [
        "## Array\n",
        "NumPy’s array class is called ndarray. We can initialize numpy arrays from nested Python lists, and access elements using square brackets:"
      ]
    },
    {
      "cell_type": "code",
      "execution_count": 3,
      "metadata": {
        "colab": {
          "base_uri": "https://localhost:8080/"
        },
        "id": "kvXNpnmQ3d83",
        "outputId": "e926d30a-ec8f-41d6-ee1d-2026b32dfb7e"
      },
      "outputs": [
        {
          "name": "stdout",
          "output_type": "stream",
          "text": [
            "77\n",
            "[ 1 88 44]\n",
            "10\n",
            "2 10 5\n",
            "2.0\n"
          ]
        }
      ],
      "source": [
        "a = np.array([77, 88, 44])   # Create array(1D) from python list\n",
        "print(a[0])               # Access elements using square brackets\n",
        "\n",
        "a[0] = 1                  # Change an element of the array\n",
        "print(a)                  # Prints \"[1, 3, 4]\"\n",
        "\n",
        "\n",
        "b = np.array([[2, 10, 4], [5, 6, 7]])   # Create a 2D array\n",
        "print(b[0, 1])                         # Prints 10\n",
        "\n",
        "b[1, 1] = 1                            # Change an element of the array\n",
        "print(b[0, 0], b[0, 1], b[1, 0])       # Prints \"2 10 5\"\n",
        "\n",
        "c = np.array([(1.5, 2, 3), (4, 5, 6)]) # Create a 2D float array\n",
        "print(c[0, 1])                         # Prints \"2.0\""
      ]
    },
    {
      "cell_type": "markdown",
      "metadata": {
        "id": "la0KkEgt5vfT"
      },
      "source": [
        "Some important attributes of an ndarray object are:\n",
        "\n",
        "\n",
        "*   **ndarray.ndim:** the number of axes (dimensions) of the array.\n",
        "*   **ndarray.shape:** the dimensions of the array. This is a tuple of integers indicating the size of the array in each dimension. For a matrix with n rows and m columns, shape will be (n,m). The length of the shape tuple is therefore the number of axes, ndim.\n",
        "*   **ndarray.size:** the total number of elements of the array. This is equal to the product of the elements of shape.\n",
        "*   **ndarray.dtype:** an object describing the type of the elements in the array. numpy.int32, numpy.int16, and numpy.float64 are some examples.\n",
        "\n",
        "\n",
        "\n"
      ]
    },
    {
      "cell_type": "code",
      "execution_count": null,
      "metadata": {
        "id": "SLZzLMzd5rGM"
      },
      "outputs": [],
      "source": [
        "print(a.ndim)             # Prints \"1\"\n",
        "print(b.ndim)             # Prints \"2\"\n",
        "\n",
        "print(a.shape)            # Prints \"(3,)\"\n",
        "print(b.shape)            # Prints \"(2, 3)\"\n",
        "\n",
        "print(a.size)             # Prints \"3\"\n",
        "print(b.size)             # Prints \"6\"\n",
        "\n",
        "print(a.dtype)            # Prints \"int64\"\n",
        "print(c.dtype)            # Prints \"float64\""
      ]
    },
    {
      "cell_type": "markdown",
      "metadata": {
        "id": "QKjD4MT8C8wp"
      },
      "source": [
        "Numpy also provides many functions to create arrays:"
      ]
    },
    {
      "cell_type": "code",
      "execution_count": 4,
      "metadata": {
        "id": "b1ZQECGpC-5Z"
      },
      "outputs": [
        {
          "name": "stdout",
          "output_type": "stream",
          "text": [
            "[[0. 0.]\n",
            " [0. 0.]]\n",
            "[[1. 1.]]\n",
            "[[7 7]\n",
            " [7 7]]\n",
            "[[1. 0.]\n",
            " [0. 1.]]\n",
            "[[0.33594655 0.08536857]\n",
            " [0.55737492 0.05054414]]\n",
            "[0 1 2 3 4 5]\n",
            "[ 2.  4.  6.  8. 10.]\n"
          ]
        }
      ],
      "source": [
        "a = np.zeros((2,2))      # Create an array of all zeros\n",
        "print(a)                 # Prints \"[[ 0.  0.]\n",
        "                         #          [ 0.  0.]]\"\n",
        "\n",
        "b = np.ones((1,2))       # Create an array of all ones\n",
        "print(b)                 # Prints \"[[ 1.  1.]]\"\n",
        "\n",
        "c = np.full((2,2), 7)    # Create a constant array\n",
        "print(c)                 # Prints \"[[ 7.  7.]\n",
        "                         #          [ 7.  7.]]\"\n",
        "\n",
        "d = np.eye(2)            # Create a 2x2 identity matrix\n",
        "print(d)                 # Prints \"[[ 1.  0.]\n",
        "                         #          [ 0.  1.]]\"\n",
        "\n",
        "e = np.random.random((2,2))  # Create an array filled with random values\n",
        "print(e)                     # Might print \"[[ 0.91940167  0.08143941]\n",
        "                             #               [ 0.68744134  0.87236687]]\"\n",
        "\n",
        "f = np.arange(6)         # Create an array filed with 0 to 5\n",
        "print(f)                 # Prints \"[0 1 2 3 4 5]\"\n",
        "\n",
        "g = np.linspace(2, 10, 5)    # Return evenly spaced 5 numbers over interval 2-10\n",
        "print(g)                     # Prints [ 2.  4.  6.  8. 10.]"
      ]
    },
    {
      "cell_type": "markdown",
      "metadata": {
        "id": "wNYXWTb7HGvv"
      },
      "source": [
        "## Array indexing, Slicing and Iterating\n",
        "One-dimensional arrays can be indexed, sliced and iterated over, much like lists and other Python sequences."
      ]
    },
    {
      "cell_type": "code",
      "execution_count": null,
      "metadata": {
        "colab": {
          "base_uri": "https://localhost:8080/"
        },
        "id": "G3W98UNGLhZH",
        "outputId": "a7b87c82-3b04-4694-faa0-13a155c4d330"
      },
      "outputs": [
        {
          "name": "stdout",
          "output_type": "stream",
          "text": [
            "[  0   1   8  27  64 125 216 343 512 729]\n",
            "8\n",
            "[ 8 27 64]\n",
            "[  0   1   8  27  64 125]\n",
            "[  8  27  64 125 216 343 512 729]\n",
            "[729 512 343 216 125  64  27   8   1   0]\n",
            "[1000    1 1000   27 1000  125  216  343  512  729]\n",
            "9.999999999999998 1.0 9.999999999999998 3.0 9.999999999999998 4.999999999999999 5.999999999999999 6.999999999999999 7.999999999999999 8.999999999999998 "
          ]
        }
      ],
      "source": [
        "a = np.arange(10)**3     # In python \"**\" means power x**3 = x^3\n",
        "print(a)                 # Prints \"[0 1 8 27 64 125 216 343 512 729]\"\n",
        "\n",
        "print(a[2])              # Prints \"8\"\n",
        "print(a[2:5])            # Prints \"[8 27 64]\"\n",
        "print(a[:6])             # Prints \"[0 1 8 27 64 125]\"\n",
        "print(a[2:])             # Prints \"[8 27 64 125 216 343 512 729]\"\n",
        "print(a[::-1])           # Prints reversed array\n",
        "\n",
        "a[:6:2] = 1000           # From start to position 6 (exclusive) set every 2nd element to 1000\n",
        "print(a)                 # Prints \"[1000 1 1000 27 1000 125 216 343 512 729]\"\n",
        "\n",
        "# Iterating over array\n",
        "for element in a:\n",
        "  print(element**(1/3), end=\" \")"
      ]
    },
    {
      "cell_type": "markdown",
      "metadata": {
        "id": "6nL19eN0yj96"
      },
      "source": [
        "Multidimensional arrays can have one index per axis. These indices are given in a tuple separated by commas:"
      ]
    },
    {
      "cell_type": "code",
      "execution_count": 8,
      "metadata": {
        "id": "7pVfrvdyyhxj"
      },
      "outputs": [
        {
          "name": "stdout",
          "output_type": "stream",
          "text": [
            "23\n",
            "[ 1 11 21 31 41]\n",
            "[[ 1  2]\n",
            " [11 12]\n",
            " [21 22]\n",
            " [31 32]\n",
            " [41 42]]\n",
            "[ 2 12]\n",
            "[31 41]\n",
            "[12 22 32]\n",
            "\n",
            "[30 31 32 33]\n",
            "[[10 11 12 13]\n",
            " [20 21 22 23]]\n",
            "[20 21]\n",
            "[12 13]\n",
            "[21 22 23]\n",
            "0 1 2 3 \n",
            "10 11 12 13 \n",
            "20 21 22 23 \n",
            "30 31 32 33 \n",
            "40 41 42 43 \n"
          ]
        }
      ],
      "source": [
        "b = np.array([[ 0,  1,  2,  3],   #0\n",
        "              [10, 11, 12, 13],   #1\n",
        "              [20, 21, 22, 23],   #2\n",
        "              [30, 31, 32, 33],   #3\n",
        "              [40, 41, 42, 43]])  #4\n",
        "\n",
        "print(b[2, 3])           # Prints \"23\"\n",
        "\n",
        "print(b[:, 1])           # Print second column of b\n",
        "print(b[:, 1:3])         # Print second and third column of b\n",
        "print(b[:2, 2])          # Print first 2 rows in the third column of b\n",
        "print(b[-2:, 1])         # Print last 2 rows in the second column of b\n",
        "print(b[1:4, 2])         # Print rows 2-4 in the third column of b\n",
        "\n",
        "print()\n",
        "\n",
        "print(b[3, :])           # Print fourth row of b\n",
        "print(b[1:3, :])         # Print second and third row of b\n",
        "print(b[2, :2])          # Print first 2 columns in the third row of b\n",
        "print(b[1, -2:])         # Print last 2 columns in the second row of b\n",
        "print(b[2, 1:4])         # Print columns 2-4 in the third row of b\n",
        "\n",
        "# Iterating over 2D array\n",
        "for row in b:\n",
        "  for col in row:\n",
        "    print(col, end=' ')\n",
        "  print()"
      ]
    },
    {
      "cell_type": "markdown",
      "metadata": {
        "id": "-M4BzVP952Q1"
      },
      "source": [
        "**Integer array indexing:** When you index into numpy arrays using slicing, the resulting array view will always be a subarray of the original array. In contrast, integer array indexing allows you to construct arbitrary arrays using the data from another array. Here is an example:"
      ]
    },
    {
      "cell_type": "code",
      "execution_count": 17,
      "metadata": {
        "id": "C9JcNvCv6GS3"
      },
      "outputs": [
        {
          "name": "stdout",
          "output_type": "stream",
          "text": [
            "[1 4 5]\n",
            "[1 4 5]\n",
            "[2 2]\n",
            "[2 2]\n"
          ]
        }
      ],
      "source": [
        "a = np.array([[1, 2], \n",
        "              [3, 4], \n",
        "              [5, 6]])\n",
        "\n",
        "print(a[[0, 1, 2], [0, 1, 0]])  # Prints \"[1 4 5]\" When there is a 3rd bracket inside a 3rd bracket,\n",
        "                                # the inner most 3rd bracket represents row [0, 1, 2] and [0, 1, 0] represents column\n",
        "\n",
        "# The above example of integer array indexing is equivalent to this:\n",
        "print(np.array([a[0, 0], a[1, 1], a[2, 0]]))  # Prints \"[1 4 5]\"\n",
        "\n",
        "# When using integer array indexing, you can reuse the same\n",
        "# element from the source array:\n",
        "print(a[[0, 0], [1, 1]])  # Prints \"[2 2]\"\n",
        "\n",
        "# Equivalent to the previous integer array indexing example\n",
        "print(np.array([a[0, 1], a[0, 1]]))  # Prints \"[2 2]\""
      ]
    },
    {
      "cell_type": "markdown",
      "metadata": {
        "id": "0jME0ARg6kKU"
      },
      "source": [
        "One useful trick with integer array indexing is selecting or mutating one element from each row of a matrix:"
      ]
    },
    {
      "cell_type": "code",
      "execution_count": 27,
      "metadata": {
        "id": "NQhNP85H6hlP"
      },
      "outputs": [
        {
          "name": "stdout",
          "output_type": "stream",
          "text": [
            "[ 1  6  7 11]\n",
            "[[11  2  3]\n",
            " [ 4  5 16]\n",
            " [17  8  9]\n",
            " [10 21 12]]\n"
          ]
        }
      ],
      "source": [
        "a = np.array([[1, 2, 3], \n",
        "              [4, 5, 6], \n",
        "              [7, 8, 9], \n",
        "              [10, 11, 12]])\n",
        "\n",
        "# Create an array of indices\n",
        "b = np.array([0, 2, 0, 1])\n",
        "\n",
        "# Select one element from each row of a using the indices in b\n",
        "print(a[np.arange(4), b])  # Prints \"[1  6  7 11]\"\n",
        "\n",
        "# Mutate one element from each row of a using the indices in b\n",
        "a[np.arange(4), b] += 10\n",
        "\n",
        "print(a)  # prints \"array([[11,  2,  3],\n",
        "          #                [ 4,  5, 16],\n",
        "          #                [17,  8,  9],\n",
        "          #                [10, 21, 12]])"
      ]
    },
    {
      "cell_type": "markdown",
      "metadata": {
        "id": "2Ls1JpLn7xCH"
      },
      "source": [
        "**Boolean array indexing:** Boolean array indexing lets you pick out arbitrary elements of an array. Frequently this type of indexing is used to select the elements of an array that satisfy some condition. Here is an example:"
      ]
    },
    {
      "cell_type": "code",
      "execution_count": null,
      "metadata": {
        "id": "1XV_sFav7wqo"
      },
      "outputs": [],
      "source": [
        "a = np.array([[1,2], [3, 4], [5, 6]])\n",
        "\n",
        "bool_idx = (a > 2)   # Find the elements of a that are bigger than 2;\n",
        "                     # this returns a numpy array of Booleans of the same\n",
        "                     # shape as a, where each slot of bool_idx tells\n",
        "                     # whether that element of a is > 2.\n",
        "\n",
        "print(bool_idx)      # Prints \"[[False False]\n",
        "                     #          [ True  True]\n",
        "                     #          [ True  True]]\"\n",
        "\n",
        "# We use boolean array indexing to construct a rank 1 array\n",
        "# consisting of the elements of a corresponding to the True values\n",
        "# of bool_idx\n",
        "print(a[bool_idx])   # Prints \"[3 4 5 6]\"\n",
        "\n",
        "# We can do all of the above in a single concise statement:\n",
        "print(a[a > 2])      # Prints \"[3 4 5 6]\""
      ]
    },
    {
      "cell_type": "markdown",
      "metadata": {
        "id": "L-o8BV11Oqmg"
      },
      "source": [
        "## Changing the shape of an array\n"
      ]
    },
    {
      "cell_type": "code",
      "execution_count": 32,
      "metadata": {
        "id": "ZD3A7OcwOvJo"
      },
      "outputs": [
        {
          "name": "stdout",
          "output_type": "stream",
          "text": [
            "[[4. 8. 9. 9.]\n",
            " [6. 0. 0. 2.]\n",
            " [9. 6. 7. 0.]]\n",
            "[4. 8. 9. 9. 6. 0. 0. 2. 9. 6. 7. 0.]\n",
            "[[4. 8.]\n",
            " [9. 9.]\n",
            " [6. 0.]\n",
            " [0. 2.]\n",
            " [9. 6.]\n",
            " [7. 0.]]\n"
          ]
        }
      ],
      "source": [
        "a = np.floor(10 * np.random.random((3, 4)))\n",
        "print(a)\n",
        "\n",
        "print(a.ravel())      # prints the array, flattened\n",
        "print(a.reshape(6, 2))# prints the array with a modified shape"
      ]
    },
    {
      "cell_type": "markdown",
      "metadata": {
        "id": "M_UHoPjy8LhI"
      },
      "source": [
        "## Stacking together different arrays\n",
        "Several arrays can be stacked together along different axes:"
      ]
    },
    {
      "cell_type": "code",
      "execution_count": 42,
      "metadata": {
        "id": "aQhbQttm8jVf"
      },
      "outputs": [
        {
          "name": "stdout",
          "output_type": "stream",
          "text": [
            "[[5 4]\n",
            " [4 2]]\n",
            "\n",
            "[[5 4]\n",
            " [4 2]\n",
            " [2 8]\n",
            " [4 2]]\n",
            "[[5 4 2 8]\n",
            " [4 2 4 2]]\n"
          ]
        }
      ],
      "source": [
        "# Create two random integer array\n",
        "# elements are in range of 1 to 10\n",
        "a = np.random.randint(low=1, high=10, size=(2,2))\n",
        "b = np.random.randint(low=1, high=10, size=(2,2))\n",
        "print(a)\n",
        "print()\n",
        "\n",
        "c = np.vstack((a, b))       # Vertically stack a and b\n",
        "print(c)                    # Will print vertically stacked array\n",
        "\n",
        "d = np.hstack((a, b))       # Horizontally stack a and b\n",
        "print(d)                    # Will print horizontally stacked array"
      ]
    },
    {
      "cell_type": "markdown",
      "metadata": {
        "id": "gcmnewhj-wu_"
      },
      "source": [
        "The function **column_stack** stacks 1D arrays as columns into a 2D array. It is equivalent to **hstack** only for 2D arrays:"
      ]
    },
    {
      "cell_type": "code",
      "execution_count": 35,
      "metadata": {
        "id": "96WPKp3F-33H"
      },
      "outputs": [
        {
          "name": "stdout",
          "output_type": "stream",
          "text": [
            "[[4 5 5 5]\n",
            " [8 3 1 3]]\n",
            "[[4. 3.]\n",
            " [2. 8.]]\n"
          ]
        }
      ],
      "source": [
        "# For 2D array\n",
        "a = np.random.randint(low=1, high=10, size=(2,2))\n",
        "b = np.random.randint(low=1, high=10, size=(2,2))\n",
        "\n",
        "c = np.column_stack((a, b))\n",
        "print(c)                     # Will print horizontally stacked array\n",
        "\n",
        "# For 1D array\n",
        "a = np.array([4., 2.])\n",
        "b = np.array([3., 8.])\n",
        "\n",
        "c = np.column_stack((a, b))  # returns a 2D array\n",
        "print(c)                     # Prints [[4. 3.]\n",
        "                             #         [2. 8.]]"
      ]
    },
    {
      "cell_type": "markdown",
      "metadata": {
        "id": "mz-o8RsLAbjo"
      },
      "source": [
        "On the other hand, the function **row_stack** is equivalent to **vstack** for any input arrays."
      ]
    },
    {
      "cell_type": "code",
      "execution_count": 36,
      "metadata": {
        "id": "fsHEqAOAAgII"
      },
      "outputs": [
        {
          "name": "stdout",
          "output_type": "stream",
          "text": [
            "[[4. 2.]\n",
            " [3. 8.]]\n"
          ]
        }
      ],
      "source": [
        "a = np.array([4., 2.])\n",
        "b = np.array([3., 8.])\n",
        "\n",
        "c = np.row_stack((a, b))     # returns a 2D array\n",
        "print(c)                     # Prints [[4. 3.]\n",
        "                             #         [2. 8.]]"
      ]
    },
    {
      "cell_type": "markdown",
      "metadata": {
        "id": "fUqa8i9pChLG"
      },
      "source": [
        "For higher dimentional array we can use **concatenate**. Here we need to pass an additional parameter name **axis**. **Concatenate** join a sequence of arrays along an existing axis. Insted of **vstack**, **hstack**, **column_stack** & **row_stack** we can always use **concatenate**.\n",
        "\n"
      ]
    },
    {
      "cell_type": "code",
      "execution_count": 41,
      "metadata": {
        "id": "JI4mFTV5Cglb"
      },
      "outputs": [
        {
          "name": "stdout",
          "output_type": "stream",
          "text": [
            "[[1 2]\n",
            " [3 4]\n",
            " [5 6]]\n",
            "[[1 2 5]\n",
            " [3 4 6]]\n",
            "[1 2 3 4 5 6]\n",
            "[0 1 2 2 3 4]\n"
          ]
        }
      ],
      "source": [
        "a = np.array([[1, 2], \n",
        "              [3, 4]])\n",
        "b = np.array([[5, 6]])\n",
        "\n",
        "c = np.concatenate((a, b), axis=0)   # Same as vstack\n",
        "print(c)                             # Prints [[1 2]\n",
        "                                     #         [3 4]\n",
        "                                     #         [5 6]]   \n",
        "\n",
        "d = np.concatenate((a, b.T), axis=1) # Same as hstack\n",
        "print(d)                             # Prints [[1 2 5]\n",
        "                                     #         [3 4 6]]\n",
        "\n",
        "e = np.concatenate((a, b), axis=None)# Flatten the array\n",
        "print(e)                             # Prints [1 2 3 4 5 6]\n",
        "\n",
        "a = np.arange(3)                     # Creates array [0 1 2]\n",
        "b = np.arange(2, 5)                  # Creates array [2 3 4]\n",
        "f = np.concatenate([a, b])           # Concatenate\n",
        "print(f)                             # Prints [0 1 2 2 3 4]"
      ]
    },
    {
      "cell_type": "markdown",
      "metadata": {
        "id": "-qPp3Ox_FtD3"
      },
      "source": [
        "## Basic Operations\n",
        "Basic mathematical functions operate elementwise on arrays, and are available both as operator overloads and as functions in the numpy module:"
      ]
    },
    {
      "cell_type": "code",
      "execution_count": 44,
      "metadata": {
        "id": "R1NK-sf9GE_f"
      },
      "outputs": [
        {
          "name": "stdout",
          "output_type": "stream",
          "text": [
            "[[ 6.  8.]\n",
            " [10. 12.]]\n",
            "[[ 6.  8.]\n",
            " [10. 12.]]\n",
            "[[-4. -4.]\n",
            " [-4. -4.]]\n",
            "[[-4. -4.]\n",
            " [-4. -4.]]\n",
            "[[ 5. 12.]\n",
            " [21. 32.]]\n",
            "[[ 5. 12.]\n",
            " [21. 32.]]\n",
            "[[0.2        0.33333333]\n",
            " [0.42857143 0.5       ]]\n",
            "[[0.2        0.33333333]\n",
            " [0.42857143 0.5       ]]\n",
            "\n",
            "[[ 1.  4.]\n",
            " [ 9. 16.]]\n",
            "[[ 1.  4.]\n",
            " [ 9. 16.]]\n",
            "[[1.         1.41421356]\n",
            " [1.73205081 2.        ]]\n",
            "[[1.         1.41421356]\n",
            " [1.73205081 2.        ]]\n"
          ]
        }
      ],
      "source": [
        "x = np.array([[1,2],[3,4]], dtype=np.float64)\n",
        "y = np.array([[5,6],[7,8]], dtype=np.float64)\n",
        "\n",
        "# Elementwise sum\n",
        "print(x + y)            # Operator overloading\n",
        "print(np.add(x, y))     # Function in numpy module\n",
        "\n",
        "# Elementwise difference\n",
        "print(x - y)            # Operator overloading\n",
        "print(np.subtract(x, y))# Function in numpy module\n",
        "\n",
        "# Elementwise product\n",
        "print(x * y)            # Operator overloading\n",
        "print(np.multiply(x, y))# Function in numpy module\n",
        "\n",
        "# Elementwise division\n",
        "print(x / y)            # Operator overloading\n",
        "print(np.divide(x, y))  # Function in numpy module\n",
        "\n",
        "# Elementwise power\n",
        "print()\n",
        "print(x**2)             # Operator overloading\n",
        "print(np.power(x, 2))   # Function in numpy module\n",
        "\n",
        "# Elementwise square root\n",
        "print(x**(1/2.))        # Operator overloading\n",
        "print(np.sqrt(x))       # Function in numpy module"
      ]
    },
    {
      "cell_type": "markdown",
      "metadata": {
        "id": "Q6wmHlYZHwZr"
      },
      "source": [
        "**Universal function:** NumPy provides familiar mathematical functions such as sin, cos, and exp."
      ]
    },
    {
      "cell_type": "code",
      "execution_count": 7,
      "metadata": {
        "id": "hICmMmaDH3sx"
      },
      "outputs": [
        {
          "name": "stdout",
          "output_type": "stream",
          "text": [
            "[1.         2.71828183 7.3890561 ]\n",
            "[0.         0.84147098 0.90929743]\n",
            "[ 1.          0.54030231 -0.41614684]\n"
          ]
        }
      ],
      "source": [
        "a = np.arange(3)\n",
        "print(np.exp(a))       # Exponential\n",
        "\n",
        "print(np.sin(a))       # Sine\n",
        "\n",
        "print(np.cos(a))       # Cosine"
      ]
    },
    {
      "cell_type": "markdown",
      "metadata": {
        "id": "wLUi67DTKpnx"
      },
      "source": [
        "Many unary operations, such as computing the sum of all the elements in the array, are implemented as methods of the ndarray class."
      ]
    },
    {
      "cell_type": "code",
      "execution_count": 49,
      "metadata": {
        "id": "TAm2d2J2Krjw"
      },
      "outputs": [
        {
          "name": "stdout",
          "output_type": "stream",
          "text": [
            "[[0 6 4 6]\n",
            " [4 2 8 8]]\n",
            "38\n",
            "0\n",
            "8\n"
          ]
        }
      ],
      "source": [
        "a = np.random.randint(10, size=(2, 4))\n",
        "print(a)\n",
        "\n",
        "print(a.sum())         # Prints the sum of all elements\n",
        "print(a.min())         # Prints the minimum of all elements\n",
        "print(a.max())         # Prints the maximum of all elements"
      ]
    },
    {
      "cell_type": "markdown",
      "metadata": {
        "id": "u8j4PzraLhOG"
      },
      "source": [
        "By specifying the axis parameter you can apply an operation along the specified axis of an array:"
      ]
    },
    {
      "cell_type": "code",
      "execution_count": 47,
      "metadata": {
        "id": "VaC_nh0ZLjy-"
      },
      "outputs": [
        {
          "name": "stdout",
          "output_type": "stream",
          "text": [
            "[12 15 18 21]\n",
            "[0 4 8]\n",
            "[[ 0  1  3  6]\n",
            " [ 4  9 15 22]\n",
            " [ 8 17 27 38]]\n"
          ]
        }
      ],
      "source": [
        "b = np.array([[ 0,  1,  2,  3],\n",
        "              [ 4,  5,  6,  7],\n",
        "              [ 8,  9, 10, 11]])\n",
        "\n",
        "print(b.sum(axis=0))   # sum of each column\n",
        "print(b.min(axis=1))   # min of each row\n",
        "print(b.cumsum(axis=1))# cumulative sum along each row"
      ]
    },
    {
      "cell_type": "markdown",
      "metadata": {
        "id": "TpOD10pvNOhY"
      },
      "source": [
        "We use the `dot` function to compute inner products of vectors, to multiply a vector by a matrix, and to multiply matrices. `dot` is available both as a function in the numpy module and as an instance method of array objects:"
      ]
    },
    {
      "cell_type": "code",
      "execution_count": null,
      "metadata": {
        "id": "UVKoPAHzNVK6"
      },
      "outputs": [],
      "source": [
        "x = np.array([[1,2],[3,4]])\n",
        "y = np.array([[5,6],[7,8]])\n",
        "\n",
        "v = np.array([9,10])\n",
        "w = np.array([11, 12])\n",
        "\n",
        "# Inner product of vectors; both produce 219\n",
        "print(v.dot(w))\n",
        "print(np.dot(v, w))\n",
        "\n",
        "# Matrix / vector product; both produce the 1D array [29 67]\n",
        "print(x.dot(v))\n",
        "print(np.dot(x, v))\n",
        "\n",
        "# Matrix / matrix product; both produce the 2D array\n",
        "# [[19 22]\n",
        "#  [43 50]]\n",
        "print(x.dot(y))\n",
        "print(np.dot(x, y))"
      ]
    },
    {
      "cell_type": "markdown",
      "metadata": {
        "id": "uMD1m0pINlhC"
      },
      "source": [
        "To transpose a matrix, simply use the `T` attribute of an array object:"
      ]
    },
    {
      "cell_type": "code",
      "execution_count": null,
      "metadata": {
        "id": "cP68hvYSNvDV"
      },
      "outputs": [],
      "source": [
        "x = np.array([[1,2], [3,4]])\n",
        "print(x)               # Prints \"[[1 2]\n",
        "                       #          [3 4]]\"\n",
        "print(x.T)             # Prints \"[[1 3]\n",
        "                       #          [2 4]]\"\n",
        "\n",
        "# Note that taking the transpose of a rank 1 array does nothing:\n",
        "v = np.array([1,2,3])\n",
        "print(v)               # Prints \"[1 2 3]\"\n",
        "print(v.T)             # Prints \"[1 2 3]\""
      ]
    },
    {
      "cell_type": "markdown",
      "metadata": {
        "id": "TUNlmk39RLkW"
      },
      "source": [
        "# **Pillow**\n",
        "Pillow is the friendly PIL fork, a Python Imaging Library. This library provides extensive file format support, an efficient internal representation, and fairly powerful image processing capabilities."
      ]
    },
    {
      "cell_type": "code",
      "execution_count": 2,
      "metadata": {
        "id": "fq2cxw-SSx3G"
      },
      "outputs": [],
      "source": [
        "from PIL import Image\n",
        "from IPython.display import display # Needed to display the image"
      ]
    },
    {
      "cell_type": "markdown",
      "metadata": {
        "id": "JuuW1HYcSnzI"
      },
      "source": [
        "##Image operations\n",
        "Pillow provides functions to work with images. For example, it has functions to read images from disk and cnvert into numpy arrays, to write numpy arrays to disk as images, and to resize images. Here is a simple example that showcases these functions:\n",
        "\n",
        "***Note:** Please upload the 'cat.jpg' file to colab from the sidebar before proceeding to next step.\n",
        "\n",
        "![cat.jpg](data:image/jpeg;base64,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)"
      ]
    },
    {
      "cell_type": "code",
      "execution_count": 3,
      "metadata": {
        "id": "J0UdqRiWRhr4"
      },
      "outputs": [
        {
          "ename": "FileNotFoundError",
          "evalue": "[Errno 2] No such file or directory: 'cat.jpg'",
          "output_type": "error",
          "traceback": [
            "\u001b[1;31m---------------------------------------------------------------------------\u001b[0m",
            "\u001b[1;31mFileNotFoundError\u001b[0m                         Traceback (most recent call last)",
            "Cell \u001b[1;32mIn [3], line 1\u001b[0m\n\u001b[1;32m----> 1\u001b[0m img \u001b[39m=\u001b[39m Image\u001b[39m.\u001b[39;49mopen(\u001b[39m'\u001b[39;49m\u001b[39mcat.jpg\u001b[39;49m\u001b[39m'\u001b[39;49m)   \u001b[39m# Load image from disk\u001b[39;00m\n\u001b[0;32m      2\u001b[0m display(img)                  \u001b[39m# Visualize the image\u001b[39;00m\n\u001b[0;32m      3\u001b[0m width, height \u001b[39m=\u001b[39m img\u001b[39m.\u001b[39msize      \u001b[39m# Gives image dimension\u001b[39;00m\n",
            "File \u001b[1;32md:\\University (year, season)\\22' Autumn\\CSC317\\Programming Assignment\\numericalMethods\\lib\\site-packages\\PIL\\Image.py:3092\u001b[0m, in \u001b[0;36mopen\u001b[1;34m(fp, mode, formats)\u001b[0m\n\u001b[0;32m   3089\u001b[0m     filename \u001b[39m=\u001b[39m fp\n\u001b[0;32m   3091\u001b[0m \u001b[39mif\u001b[39;00m filename:\n\u001b[1;32m-> 3092\u001b[0m     fp \u001b[39m=\u001b[39m builtins\u001b[39m.\u001b[39;49mopen(filename, \u001b[39m\"\u001b[39;49m\u001b[39mrb\u001b[39;49m\u001b[39m\"\u001b[39;49m)\n\u001b[0;32m   3093\u001b[0m     exclusive_fp \u001b[39m=\u001b[39m \u001b[39mTrue\u001b[39;00m\n\u001b[0;32m   3095\u001b[0m \u001b[39mtry\u001b[39;00m:\n",
            "\u001b[1;31mFileNotFoundError\u001b[0m: [Errno 2] No such file or directory: 'cat.jpg'"
          ]
        }
      ],
      "source": [
        "img = Image.open('cat.jpg')   # Load image from disk\n",
        "display(img)                  # Visualize the image\n",
        "width, height = img.size      # Gives image dimension\n",
        "print(width, height)\n",
        "\n",
        "img_data = np.asarray(img)    # Convert image to np array\n",
        "print(img_data.shape)         # The image has shape (340, 325, 3)\n",
        "\n",
        "img = Image.fromarray(img_data, mode='RGB') # Convert np array to PIL image\n",
        "display(img)\n",
        "\n",
        "# RGB image to Grayscale\n",
        "gray_img = img.convert(mode='L') # Mode 'L' is 8-bit pixels, black and white\n",
        "display(gray_img)\n",
        "\n",
        "gray_img = gray_img.resize((300, 300)) # Resize image\n",
        "display(gray_img)\n",
        "gray_img.save('gray_cat.jpg')          # Save image"
      ]
    },
    {
      "cell_type": "markdown",
      "metadata": {
        "id": "nQ4bq7HVgMoq"
      },
      "source": [
        "# **Matplotlib**\n",
        "Matplotlib is a plotting library. In this section give a brief introduction to the matplotlib.pyplot module, which provides a plotting system. Import `matplotlib.pyplot` to start working with plots."
      ]
    },
    {
      "cell_type": "code",
      "execution_count": 6,
      "metadata": {
        "id": "2lmyGnqhg1ul"
      },
      "outputs": [],
      "source": [
        "import matplotlib.pyplot as plt"
      ]
    },
    {
      "cell_type": "markdown",
      "metadata": {
        "id": "B8AwridPghrE"
      },
      "source": [
        "## Plotting\n",
        "The most important function in matplotlib is `plot`, which allows you to plot 2D data. Here is a simple example:\n"
      ]
    },
    {
      "cell_type": "code",
      "execution_count": 11,
      "metadata": {
        "colab": {
          "base_uri": "https://localhost:8080/",
          "height": 265
        },
        "id": "9hKHoJIThRoQ",
        "outputId": "64c85212-45fb-4c9d-b75d-a67383c2cafa"
      },
      "outputs": [
        {
          "data": {
            "image/png": "[encoded data removed]",
            "text/plain": [
              "<Figure size 640x480 with 1 Axes>"
            ]
          },
          "metadata": {},
          "output_type": "display_data"
        }
      ],
      "source": [
        "x = np.arange(start = 0, stop = 3 * np.pi, step = 0.1)\n",
        "y = np.sin(x)\n",
        "\n",
        "# Plot the points using matplotlib\n",
        "plt.plot(x, y)\n",
        "plt.show()  # You must call plt.show() to make graphics appear."
      ]
    },
    {
      "cell_type": "markdown",
      "metadata": {
        "id": "k6f1Yf_KiMU8"
      },
      "source": [
        "With just a little bit of extra work we can easily plot multiple lines at once, and add a title, legend, and axis labels:"
      ]
    },
    {
      "cell_type": "code",
      "execution_count": 12,
      "metadata": {
        "colab": {
          "base_uri": "https://localhost:8080/",
          "height": 295
        },
        "id": "XXFsmLy8iNrs",
        "outputId": "739dae36-70e1-4013-9353-906456029a4e"
      },
      "outputs": [
        {
          "data": {
            "image/png": "[encoded data removed]",
            "text/plain": [
              "<Figure size 640x480 with 1 Axes>"
            ]
          },
          "metadata": {},
          "output_type": "display_data"
        }
      ],
      "source": [
        "x = np.arange(start = 0, stop = 3 * np.pi, step = 0.1)\n",
        "y_sin = np.sin(x)\n",
        "y_cos = np.cos(x)\n",
        "\n",
        "# Plot the points using matplotlib\n",
        "plt.plot(x, y_sin)\n",
        "plt.plot(x, y_cos)\n",
        "plt.xlabel('x axis label')\n",
        "plt.ylabel('y axis label')\n",
        "plt.title('Sine and Cosine')\n",
        "plt.legend(['Sine', 'Cosine'])\n",
        "plt.show()"
      ]
    },
    {
      "cell_type": "markdown",
      "metadata": {
        "id": "AeUzFhjZiiNG"
      },
      "source": [
        "## Subplots\n",
        "We can plot different things in the same figure using the `subplot` function. Here is an example:"
      ]
    },
    {
      "cell_type": "code",
      "execution_count": null,
      "metadata": {
        "colab": {
          "base_uri": "https://localhost:8080/",
          "height": 281
        },
        "id": "TDR6ElJ4iq5B",
        "outputId": "4730455d-dee5-423d-e335-1dbdfe6cbbfd"
      },
      "outputs": [
        {
          "data": {
            "image/png": "[encoded data removed]",
            "text/plain": [
              "<Figure size 432x288 with 2 Axes>"
            ]
          },
          "metadata": {
            "needs_background": "light"
          },
          "output_type": "display_data"
        }
      ],
      "source": [
        "x = np.arange(start = 0, stop = 3 * np.pi, step = 0.1)\n",
        "y_sin = np.sin(x)\n",
        "y_cos = np.cos(x)\n",
        "\n",
        "# Set up a subplot grid that has height 2 and width 1,\n",
        "# and set the first such subplot as active.\n",
        "plt.subplot(2, 1, 1)\n",
        "\n",
        "# Make the first plot\n",
        "plt.plot(x, y_sin)\n",
        "plt.title('Sine')\n",
        "\n",
        "# Set the second subplot as active, and make the second plot.\n",
        "plt.subplot(2, 1, 2)\n",
        "plt.plot(x, y_cos)\n",
        "plt.title('Cosine')\n",
        "\n",
        "# Show the figure.\n",
        "plt.show()"
      ]
    },
    {
      "cell_type": "markdown",
      "metadata": {
        "id": "-YErPJp_jtnd"
      },
      "source": [
        "## Surface plot\n",
        "We can plot 3D surface using `plot_surface` function. Here is an example:"
      ]
    },
    {
      "cell_type": "code",
      "execution_count": 14,
      "metadata": {
        "colab": {
          "base_uri": "https://localhost:8080/",
          "height": 248
        },
        "id": "6U5LsDBJkJDo",
        "outputId": "9f7c6ac7-ed3a-4d20-f2d1-3b674f46a71c"
      },
      "outputs": [
        {
          "data": {
            "image/png": "[encoded data removed]",
            "text/plain": [
              "<Figure size 640x480 with 1 Axes>"
            ]
          },
          "metadata": {},
          "output_type": "display_data"
        }
      ],
      "source": [
        "X = np.arange(-2, 2, 0.25)\n",
        "Y = np.arange(-2, 2, 0.25)\n",
        "\n",
        "X, Y = np.meshgrid(X, Y)   # carefully check what x and y are\n",
        "\n",
        "Z = X*np.exp(-X**2-Y**2)  # what will be Z(1)\n",
        "\n",
        "fig = plt.figure()\n",
        "ax = plt.axes(projection='3d')\n",
        "\n",
        "ax.plot_surface(X, Y, Z,cmap='viridis', edgecolor='none')\n",
        "ax.set_title('Surface plot')\n",
        "plt.show()"
      ]
    }
  ],
  "metadata": {
    "colab": {
      "collapsed_sections": [],
      "provenance": []
    },
    "kernelspec": {
      "display_name": "Python 3.10.4 ('numericalMethods': venv)",
      "language": "python",
      "name": "python3"
    },
    "language_info": {
      "codemirror_mode": {
        "name": "ipython",
        "version": 3
      },
      "file_extension": ".py",
      "mimetype": "text/x-python",
      "name": "python",
      "nbconvert_exporter": "python",
      "pygments_lexer": "ipython3",
      "version": "3.10.4"
    },
    "vscode": {
      "interpreter": {
        "hash": "c771c22b3559cec05a794d6efd18b06c5b4cc50f5487dd17bd34aac4a3d4236e"
      }
    }
  },
  "nbformat": 4,
  "nbformat_minor": 0
}
