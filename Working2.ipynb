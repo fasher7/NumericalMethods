{
  "cells": [
    {
      "cell_type": "markdown",
      "metadata": {
        "id": "bmkA-1-2gjZ9"
      },
      "source": [
        "**Name**: Fahim Shahriar\n",
        "\n",
        "**ID**: 2022523"
      ]
    },
    {
      "cell_type": "markdown",
      "metadata": {
        "id": "0dMvyYnD50vB"
      },
      "source": [
        "#### **Find the following integral using the simpson's 1/3 rule**\n",
        "\n",
        "Simpson's 1/3 rule uses higher-order polynomials to approximate the integral of a function $f(x)$ over the interval $[a,b]$. For Example, if there is an extra point midway between $f(a)$ and $f(b)$, the three points can be connected with a parabola. The area under the parabola is an approximation of the integral of $f(x)$ over the interval $[a,b]$.\n",
        "\n",
        "<center>\n",
        "    <img src=\"https://github.com/mirsazzathossain/CSE317-Lab/blob/main/images/simpson.PNG?raw=1\" width=\"400\" />\n",
        "</center>\n",
        "\n",
        "If we are given values of $f(x)$ at 3 points as $(x_0, f(x_0))$, $(x_1, f(x_1))$, and $(x_2, f(x_2))$ then we can estimate $f(x)$ using the Lagrange polynomial of degree 2: \n",
        "\n",
        "$$\n",
        "\\begin{align*}\n",
        "f(x) &\\approx f(x_0) \\frac{(x-x_1)(x-x_2)}{(x_0-x_1)(x_0-x_2)} + f(x_1) \\frac{(x-x_0)(x-x_2)}{(x_1-x_0)(x_1-x_2)} + f(x_2) \\frac{(x-x_0)(x-x_1)}{(x_2-x_0)(x_2-x_1)} \n",
        "\\end{align*}\n",
        "$$\n",
        "\n",
        "Now, as the area under the estimated curve is an approximation of the integral of $f(x)$ over the interval $[a,b]$, we can write the integral as:\n",
        "\n",
        "$$\n",
        "\\begin{align*}\n",
        "I &= \\int_{a}^{b} f(x) dx \\\\\n",
        "&\\approx \\int_{a}^{b} f(x_0) \\left[\\frac{(x-x_1)(x-x_2)}{(x_0-x_1)(x_0-x_2)} + f(x_1) \\frac{(x-x_0)(x-x_2)}{(x_1-x_0)(x_1-x_2)} + f(x_2) \\frac{(x-x_0)(x-x_1)}{(x_2-x_0)(x_2-x_1)} \\right] dx \n",
        "\\end{align*}\n",
        "$$\n",
        "\n",
        "When $a = x_0$, $b = x_2$, $x_1 = \\frac{a+b}{2}$, and $h = \\frac{b-a}{2}$, we can simplify the integral to:\n",
        "\n",
        "$$\n",
        "\\begin{align*}\n",
        "    I &\\approx \\frac{h}{3} \\left[ f(x_0) + 4f(x_1) + f(x_2) \\right] \\\\\n",
        "    &= (b-a) \\frac{f(x_0) + 4f(x_1) + f(x_2)}{6}\n",
        "\\end{align*}\n",
        "$$\n",
        "\n",
        "We will use Simpson's 1/3 rule to approximate the integral of $f(x) = 0.2 + 25x - 200x^2 + 675x^3 - 900x^4 + 400x^5$ over the interval $[0, 0.8]$. Follow the steps below to approximate the integral using Simpson's 1/3 rule."
      ]
    },
    {
      "cell_type": "markdown",
      "metadata": {
        "id": "kPF1nrw59Asg"
      },
      "source": [
        "**Importing essentials libraries**"
      ]
    },
    {
      "cell_type": "code",
      "execution_count": null,
      "metadata": {
        "id": "TVRB8HtU8pJh"
      },
      "outputs": [],
      "source": [
        "import numpy as np\n",
        "import matplotlib.pyplot as plt"
      ]
    },
    {
      "cell_type": "markdown",
      "metadata": {
        "id": "t7Vm5Jbk50vC"
      },
      "source": [
        "##### **Step 1: Define the function**\n",
        "\n",
        "Define a function `f` that takes a single parameter `x` and returns the value of $f(x) = 0.2 + 25x - 200x^2 + 675x^3 - 900x^4 + 400x^5$ at `x`. Note that the function should be able to handle both scalar and vector inputs.\n"
      ]
    },
    {
      "cell_type": "code",
      "execution_count": null,
      "metadata": {
        "id": "M0GQCXkh50vD"
      },
      "outputs": [],
      "source": [
        "def f(x):\n",
        "  return 0.2+25*x-200*x**2+675*x**3-900*x**4+400*x**5"
      ]
    },
    {
      "cell_type": "markdown",
      "metadata": {
        "id": "Rw8nfClN50vE"
      },
      "source": [
        "##### **Step 2: Define a function to approximate the function $f(x)$ using Lagrange polynomial**\n",
        "\n",
        "Define a function `lagrange` that takes three parameters `x0`, `x1`, `x2` and `x` and returns the value of the Lagrange polynomial of degree 2 at `x`. The function should be able to handle both scalar and vector inputs. Use the function `f` defined in Step 1 to evaluate the function at the given points. "
      ]
    },
    {
      "cell_type": "code",
      "execution_count": null,
      "metadata": {
        "id": "TU3BsukI50vE"
      },
      "outputs": [],
      "source": [
        "def lagrange(x0, x1, x2, x):\n",
        "  return (f(x0) * ((x-x1)*(x-x2))/((x0-x1)*(x0-x2))) + (f(x1) * ((x-x0)*(x-x2))/((x1-x0)*(x1-x2))) + (f(x2) * ((x-x0)*(x-x1))/((x2-x0)*(x2-x1)))"
      ]
    },
    {
      "cell_type": "markdown",
      "metadata": {
        "id": "NNXlX-8W50vF"
      },
      "source": [
        "##### **Step 3: Define the interval**\n",
        "Define the interval as a numpy array of two elements, where the first element is the lower bound and the second element is the upper bound. Name the array `interval`."
      ]
    },
    {
      "cell_type": "code",
      "execution_count": null,
      "metadata": {
        "id": "Rf6kHkn950vF"
      },
      "outputs": [],
      "source": [
        "interval = np.array([0, 0.8])"
      ]
    },
    {
      "cell_type": "markdown",
      "metadata": {
        "id": "3DUuCEXa50vG"
      },
      "source": [
        "##### **Step 4: Plot the function and the approximated polynomial**\n",
        "\n",
        "Plot the function $f(x)$ and the approximated polynomial using the function `lagrange` defined in Step 2. Use the interval defined in Step 3 as the x-axis. Also, plot the points $(x_0, f(x_0))$, $(x_1, f(x_1))$, and $(x_2, f(x_2))$ on the same plot. Fill the area under the approximated polynomial using numpy's `fill_between` function."
      ]
    },
    {
      "cell_type": "code",
      "execution_count": null,
      "metadata": {
        "colab": {
          "base_uri": "https://localhost:8080/",
          "height": 296
        },
        "id": "X3rvJsQ450vG",
        "outputId": "44e65d89-c933-44d1-941d-1d24d56cc801"
      },
      "outputs": [
        {
          "output_type": "display_data",
          "data": {
            "text/plain": [
              "<Figure size 432x288 with 1 Axes>"
            ],
            "image/png": "[encoded data removed]"
          },
          "metadata": {
            "needs_background": "light"
          }
        }
      ],
      "source": [
        "x0 = np.min(interval)\n",
        "x2 = np.max(interval)\n",
        "x1 = (x0+x2)/2\n",
        "x_axis = np.arange(x0, x2+0.025, 0.025)\n",
        "y1_axis = np.array(f(x_axis))\n",
        "y2_axis = np.array(lagrange(x0, x1, x2, x_axis))\n",
        "plt.title(\"Graph\")\n",
        "plt.plot(x_axis, y1_axis, color = \"purple\")\n",
        "plt.plot(x_axis, y2_axis, color = \"green\", linestyle='dashed')\n",
        "plt.fill_between(x_axis, y2_axis, color='lime')\n",
        "plt.plot(x0, f(x0), 'ko', x1, f(x1), 'ko', x2, f(x2), 'ko')\n",
        "plt.xlabel(\"x_Direction -------------->\")\n",
        "plt.ylabel(\"y_Direction -------------->\")\n",
        "plt.legend([\"f(x)\", \"L(x)\"])\n",
        "plt.show()"
      ]
    },
    {
      "cell_type": "markdown",
      "metadata": {
        "id": "ZmdjyC8b50vH"
      },
      "source": [
        "##### **Step 5: Define a function to approximate the integral using Simpson's 1/3 rule**\n",
        "\n",
        "Define a function `simpson` that takes a parameter `interval` and returns the approximate value of the integral of $f(x)$ over the interval `interval` using Simpson's 1/3 rule. You have to employ the following steps:\n",
        "\n",
        "*   Calculate the midpoint of the interval. Store the value in a variable named `midpoint`.\n",
        "*   Calculate the value of $f(x_0)$, $f(x_1)$, and $f(x_2)$, where $x_0 = a$, $x_1 = \\frac{a+b}{2} = midpoint$, and $x_2 = b$. Store the values in variables named `f0`, `f1`, and `f2` respectively.\n",
        "*   Calculate the approximate value of the integral using Simpson's 1/3 rule. Store the value in a variable named `I`.\n",
        "*   Return the value of `I`."
      ]
    },
    {
      "cell_type": "code",
      "execution_count": null,
      "metadata": {
        "id": "OrNrctGz50vH"
      },
      "outputs": [],
      "source": [
        "def simpson(interval):\n",
        "  a = interval[0]\n",
        "  b = interval[1]\n",
        "  midpoint = (a+b)/2\n",
        "  f0 = f(a)\n",
        "  f1 = f(midpoint)\n",
        "  f2 = f(b)\n",
        "  I = (b-a)*(f0 + 4*f1 + f2)/6\n",
        "  return I"
      ]
    },
    {
      "cell_type": "markdown",
      "metadata": {
        "id": "z4GyV5JM50vI"
      },
      "source": [
        "##### **Step 6: Approximate the integral using Simpson's 1/3 rule**\n",
        "\n",
        "Call the function `simpson` with the interval `interval` as the parameter. Store the value returned by the function in a variable named `I`. Print the value of `I`. Then you should compute the integral analytically and find the absolute relative error between the two values. Print the absolute relative error."
      ]
    },
    {
      "cell_type": "code",
      "execution_count": null,
      "metadata": {
        "id": "jGO6E0nk50vI",
        "colab": {
          "base_uri": "https://localhost:8080/"
        },
        "outputId": "aa27af31-d613-4aa9-eaa0-a88123114dfd"
      },
      "outputs": [
        {
          "output_type": "stream",
          "name": "stdout",
          "text": [
            "Area by Numerical Integration: 1.3674666666666744\n",
            "Area by Analytical Integration: 1.6405333333333374\n",
            "Absolute Relative Error = 16.645%\n"
          ]
        }
      ],
      "source": [
        "I = simpson(interval)\n",
        "print(\"Area by Numerical Integration:\", I)\n",
        "real = (0.2*x2 + 12.5*x2**2 - (200/3)*x2**3 + 168.75*x2**4 - 180*x2**5 + (200/3)*x2**6) - ((0.2*x0 + 12.5*x0**2 - (200/3)*x0**3 + 168.75*x0**4 - 180*x0**5 + (200/3)*x0**6))\n",
        "print(\"Area by Analytical Integration:\", real)\n",
        "print(\"Absolute Relative Error =\", \"{0}%\".format(round((np.absolute(I-real)/real)*100, 3)))"
      ]
    }
  ],
  "metadata": {
    "colab": {
      "provenance": []
    },
    "kernelspec": {
      "display_name": "Python 3",
      "language": "python",
      "name": "python3"
    },
    "language_info": {
      "codemirror_mode": {
        "name": "ipython",
        "version": 3
      },
      "file_extension": ".py",
      "mimetype": "text/x-python",
      "name": "python",
      "nbconvert_exporter": "python",
      "pygments_lexer": "ipython3",
      "version": "3.10.6"
    },
    "vscode": {
      "interpreter": {
        "hash": "b148fc9bfa8b60132af830e32e1690e4e023b803e92912df15b823b90141dda6"
      }
    }
  },
  "nbformat": 4,
  "nbformat_minor": 0
}